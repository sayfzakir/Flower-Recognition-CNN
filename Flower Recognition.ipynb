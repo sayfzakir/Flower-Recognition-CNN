{
 "cells": [
  {
   "cell_type": "code",
   "execution_count": 1,
   "id": "breathing-sunglasses",
   "metadata": {
    "_cell_guid": "b1076dfc-b9ad-4769-8c92-a6c4dae69d19",
    "_uuid": "8f2839f25d086af736a60e9eeb907d3b93b6e0e5",
    "execution": {
     "iopub.execute_input": "2021-05-25T08:14:05.482594Z",
     "iopub.status.busy": "2021-05-25T08:14:05.482078Z",
     "iopub.status.idle": "2021-05-25T08:14:05.485888Z",
     "shell.execute_reply": "2021-05-25T08:14:05.485410Z",
     "shell.execute_reply.started": "2021-05-25T07:02:37.563748Z"
    },
    "papermill": {
     "duration": 0.02498,
     "end_time": "2021-05-25T08:14:05.486016",
     "exception": false,
     "start_time": "2021-05-25T08:14:05.461036",
     "status": "completed"
    },
    "tags": []
   },
   "outputs": [],
   "source": [
    "# This Python 3 environment comes with many helpful analytics libraries installed\n",
    "# It is defined by the kaggle/python Docker image: https://github.com/kaggle/docker-python\n",
    "# For example, here's several helpful packages to load\n",
    "\n",
    "import numpy as np # linear algebra\n",
    "import pandas as pd # data processing, CSV file I/O (e.g. pd.read_csv)\n",
    "\n",
    "# Input data files are available in the read-only \"../input/\" directory\n",
    "# For example, running this (by clicking run or pressing Shift+Enter) will list all files under the input directory\n",
    "\n",
    "import os\n",
    "\n",
    "# You can write up to 20GB to the current directory (/kaggle/working/) that gets preserved as output when you create a version using \"Save & Run All\" \n",
    "# You can also write temporary files to /kaggle/temp/, but they won't be saved outside of the current session"
   ]
  },
  {
   "cell_type": "code",
   "execution_count": 2,
   "id": "expired-discipline",
   "metadata": {
    "execution": {
     "iopub.execute_input": "2021-05-25T08:14:05.514704Z",
     "iopub.status.busy": "2021-05-25T08:14:05.514165Z",
     "iopub.status.idle": "2021-05-25T08:14:17.929354Z",
     "shell.execute_reply": "2021-05-25T08:14:17.928899Z",
     "shell.execute_reply.started": "2021-05-25T07:02:37.579197Z"
    },
    "papermill": {
     "duration": 12.4328,
     "end_time": "2021-05-25T08:14:17.929482",
     "exception": false,
     "start_time": "2021-05-25T08:14:05.496682",
     "status": "completed"
    },
    "tags": []
   },
   "outputs": [
    {
     "name": "stdout",
     "output_type": "stream",
     "text": [
      "Collecting chart_studio\r\n",
      "  Downloading chart_studio-1.1.0-py3-none-any.whl (64 kB)\r\n",
      "\u001b[K     |████████████████████████████████| 64 kB 1.9 MB/s \r\n",
      "\u001b[?25hRequirement already satisfied: six in /opt/conda/lib/python3.7/site-packages (from chart_studio) (1.15.0)\r\n",
      "Requirement already satisfied: requests in /opt/conda/lib/python3.7/site-packages (from chart_studio) (2.25.1)\r\n",
      "Requirement already satisfied: plotly in /opt/conda/lib/python3.7/site-packages (from chart_studio) (4.14.3)\r\n",
      "Requirement already satisfied: retrying>=1.3.3 in /opt/conda/lib/python3.7/site-packages (from chart_studio) (1.3.3)\r\n",
      "Requirement already satisfied: chardet<5,>=3.0.2 in /opt/conda/lib/python3.7/site-packages (from requests->chart_studio) (4.0.0)\r\n",
      "Requirement already satisfied: idna<3,>=2.5 in /opt/conda/lib/python3.7/site-packages (from requests->chart_studio) (2.10)\r\n",
      "Requirement already satisfied: certifi>=2017.4.17 in /opt/conda/lib/python3.7/site-packages (from requests->chart_studio) (2020.12.5)\r\n",
      "Requirement already satisfied: urllib3<1.27,>=1.21.1 in /opt/conda/lib/python3.7/site-packages (from requests->chart_studio) (1.26.4)\r\n",
      "Installing collected packages: chart-studio\r\n",
      "Successfully installed chart-studio-1.1.0\r\n"
     ]
    },
    {
     "data": {
      "text/html": [
       "        <script type=\"text/javascript\">\n",
       "        window.PlotlyConfig = {MathJaxConfig: 'local'};\n",
       "        if (window.MathJax) {MathJax.Hub.Config({SVG: {font: \"STIX-Web\"}});}\n",
       "        if (typeof require !== 'undefined') {\n",
       "        require.undef(\"plotly\");\n",
       "        requirejs.config({\n",
       "            paths: {\n",
       "                'plotly': ['https://cdn.plot.ly/plotly-latest.min']\n",
       "            }\n",
       "        });\n",
       "        require(['plotly'], function(Plotly) {\n",
       "            window._Plotly = Plotly;\n",
       "        });\n",
       "        }\n",
       "        </script>\n",
       "        "
      ]
     },
     "metadata": {},
     "output_type": "display_data"
    }
   ],
   "source": [
    "import numpy as np\n",
    "import pandas as pd\n",
    "import matplotlib.pyplot as plt\n",
    "!pip install chart_studio\n",
    "import chart_studio.plotly as py\n",
    "import plotly.graph_objs as go\n",
    "from plotly.offline import init_notebook_mode, iplot\n",
    "init_notebook_mode(connected=True)\n",
    "\n",
    "import cv2\n",
    "\n",
    "import seaborn as sns\n",
    "import keras\n",
    "from keras.models import Sequential\n",
    "from keras.layers import Dense, Activation, Dropout, Flatten\n",
    "from keras.layers import Conv2D\n",
    "from keras.layers import MaxPooling2D,MaxPool2D\n",
    "from keras.layers.normalization import BatchNormalization\n",
    "from keras.optimizers import Adam\n",
    "from keras.preprocessing.image import ImageDataGenerator\n",
    "\n",
    "import os"
   ]
  },
  {
   "cell_type": "code",
   "execution_count": 3,
   "id": "aquatic-coffee",
   "metadata": {
    "execution": {
     "iopub.execute_input": "2021-05-25T08:14:17.964572Z",
     "iopub.status.busy": "2021-05-25T08:14:17.964038Z",
     "iopub.status.idle": "2021-05-25T08:14:41.802089Z",
     "shell.execute_reply": "2021-05-25T08:14:41.802490Z",
     "shell.execute_reply.started": "2021-05-25T07:02:53.932057Z"
    },
    "papermill": {
     "duration": 23.860237,
     "end_time": "2021-05-25T08:14:41.802700",
     "exception": false,
     "start_time": "2021-05-25T08:14:17.942463",
     "status": "completed"
    },
    "tags": []
   },
   "outputs": [],
   "source": [
    "x_ = list()\n",
    "y = list()\n",
    "IMG_SIZE = 128\n",
    "for i in os.listdir(\"../input/flowers-recognition/flowers/daisy\"):\n",
    "    try:\n",
    "        path = \"../input/flowers-recognition/flowers/daisy/\"+i\n",
    "        img = plt.imread(path)\n",
    "        img = cv2.resize(img,(IMG_SIZE,IMG_SIZE))\n",
    "        x_.append(img)\n",
    "        y.append(0)\n",
    "    except:\n",
    "        None\n",
    "for i in os.listdir(\"../input/flowers-recognition/flowers/dandelion\"):\n",
    "    try:\n",
    "        path = \"../input/flowers-recognition/flowers/dandelion/\"+i\n",
    "        img = plt.imread(path)\n",
    "        img = cv2.resize(img,(IMG_SIZE,IMG_SIZE))\n",
    "        x_.append(img)\n",
    "        y.append(1)\n",
    "    except:\n",
    "        None\n",
    "for i in os.listdir(\"../input/flowers-recognition/flowers/rose\"):\n",
    "    try:\n",
    "        path = \"../input/flowers-recognition/flowers/rose/\"+i\n",
    "        img = plt.imread(path)\n",
    "        img = cv2.resize(img,(IMG_SIZE,IMG_SIZE))\n",
    "        x_.append(img)\n",
    "        y.append(2)\n",
    "    except:\n",
    "        None\n",
    "for i in os.listdir(\"../input/flowers-recognition/flowers/sunflower\"):\n",
    "    try:\n",
    "        path = \"../input/flowers-recognition/flowers/sunflower/\"+i\n",
    "        img = plt.imread(path)\n",
    "        img = cv2.resize(img,(IMG_SIZE,IMG_SIZE))\n",
    "        x_.append(img)\n",
    "        y.append(3)\n",
    "    except:\n",
    "        None\n",
    "for i in os.listdir(\"../input/flowers-recognition/flowers/tulip\"):\n",
    "    try:\n",
    "        path = \"../input/flowers-recognition/flowers/tulip/\"+i\n",
    "        img = plt.imread(path)\n",
    "        img = cv2.resize(img,(IMG_SIZE,IMG_SIZE))\n",
    "        x_.append(img)\n",
    "        y.append(4)\n",
    "    except:\n",
    "        None\n",
    "x_ = np.array(x_)\n",
    "from keras.utils.np_utils import to_categorical\n",
    "y = to_categorical(y,num_classes = 5)"
   ]
  },
  {
   "cell_type": "code",
   "execution_count": 4,
   "id": "lasting-immunology",
   "metadata": {
    "execution": {
     "iopub.execute_input": "2021-05-25T08:14:41.836717Z",
     "iopub.status.busy": "2021-05-25T08:14:41.836007Z",
     "iopub.status.idle": "2021-05-25T08:14:42.196239Z",
     "shell.execute_reply": "2021-05-25T08:14:42.195752Z",
     "shell.execute_reply.started": "2021-05-25T07:03:21.303379Z"
    },
    "papermill": {
     "duration": 0.376171,
     "end_time": "2021-05-25T08:14:42.196362",
     "exception": false,
     "start_time": "2021-05-25T08:14:41.820191",
     "status": "completed"
    },
    "tags": []
   },
   "outputs": [],
   "source": [
    "from sklearn.model_selection import train_test_split\n",
    "x_train,x_test,y_train,y_test = train_test_split(x_,y,test_size = 0.15,random_state = 42)"
   ]
  },
  {
   "cell_type": "code",
   "execution_count": 5,
   "id": "funky-commons",
   "metadata": {
    "execution": {
     "iopub.execute_input": "2021-05-25T08:14:42.226969Z",
     "iopub.status.busy": "2021-05-25T08:14:42.225867Z",
     "iopub.status.idle": "2021-05-25T08:14:42.282538Z",
     "shell.execute_reply": "2021-05-25T08:14:42.282011Z",
     "shell.execute_reply.started": "2021-05-25T07:03:21.961607Z"
    },
    "papermill": {
     "duration": 0.073654,
     "end_time": "2021-05-25T08:14:42.282661",
     "exception": false,
     "start_time": "2021-05-25T08:14:42.209007",
     "status": "completed"
    },
    "tags": []
   },
   "outputs": [],
   "source": [
    "x_train,x_val,y_train,y_val = train_test_split(x_train,y_train,test_size = 0.15,random_state = 42)"
   ]
  },
  {
   "cell_type": "code",
   "execution_count": 6,
   "id": "thrown-albert",
   "metadata": {
    "execution": {
     "iopub.execute_input": "2021-05-25T08:14:42.314068Z",
     "iopub.status.busy": "2021-05-25T08:14:42.313302Z",
     "iopub.status.idle": "2021-05-25T08:14:42.317363Z",
     "shell.execute_reply": "2021-05-25T08:14:42.317750Z",
     "shell.execute_reply.started": "2021-05-25T07:03:22.053581Z"
    },
    "papermill": {
     "duration": 0.022314,
     "end_time": "2021-05-25T08:14:42.317872",
     "exception": false,
     "start_time": "2021-05-25T08:14:42.295558",
     "status": "completed"
    },
    "tags": []
   },
   "outputs": [
    {
     "data": {
      "text/plain": [
       "(3122, 128, 128, 3)"
      ]
     },
     "execution_count": 6,
     "metadata": {},
     "output_type": "execute_result"
    }
   ],
   "source": [
    "x_train.shape"
   ]
  },
  {
   "cell_type": "code",
   "execution_count": 7,
   "id": "demographic-sheffield",
   "metadata": {
    "execution": {
     "iopub.execute_input": "2021-05-25T08:14:42.353596Z",
     "iopub.status.busy": "2021-05-25T08:14:42.352934Z",
     "iopub.status.idle": "2021-05-25T08:14:44.448627Z",
     "shell.execute_reply": "2021-05-25T08:14:44.449349Z",
     "shell.execute_reply.started": "2021-05-25T07:03:22.076565Z"
    },
    "papermill": {
     "duration": 2.119213,
     "end_time": "2021-05-25T08:14:44.449538",
     "exception": false,
     "start_time": "2021-05-25T08:14:42.330325",
     "status": "completed"
    },
    "tags": []
   },
   "outputs": [
    {
     "name": "stdout",
     "output_type": "stream",
     "text": [
      "Model: \"sequential\"\n",
      "_________________________________________________________________\n",
      "Layer (type)                 Output Shape              Param #   \n",
      "=================================================================\n",
      "conv2d (Conv2D)              (None, 128, 128, 64)      1792      \n",
      "_________________________________________________________________\n",
      "max_pooling2d (MaxPooling2D) (None, 64, 64, 64)        0         \n",
      "_________________________________________________________________\n",
      "batch_normalization (BatchNo (None, 64, 64, 64)        256       \n",
      "_________________________________________________________________\n",
      "dropout (Dropout)            (None, 64, 64, 64)        0         \n",
      "_________________________________________________________________\n",
      "conv2d_1 (Conv2D)            (None, 64, 64, 128)       73856     \n",
      "_________________________________________________________________\n",
      "max_pooling2d_1 (MaxPooling2 (None, 32, 32, 128)       0         \n",
      "_________________________________________________________________\n",
      "batch_normalization_1 (Batch (None, 32, 32, 128)       512       \n",
      "_________________________________________________________________\n",
      "dropout_1 (Dropout)          (None, 32, 32, 128)       0         \n",
      "_________________________________________________________________\n",
      "conv2d_2 (Conv2D)            (None, 32, 32, 128)       147584    \n",
      "_________________________________________________________________\n",
      "max_pooling2d_2 (MaxPooling2 (None, 16, 16, 128)       0         \n",
      "_________________________________________________________________\n",
      "batch_normalization_2 (Batch (None, 16, 16, 128)       512       \n",
      "_________________________________________________________________\n",
      "dropout_2 (Dropout)          (None, 16, 16, 128)       0         \n",
      "_________________________________________________________________\n",
      "conv2d_3 (Conv2D)            (None, 16, 16, 256)       295168    \n",
      "_________________________________________________________________\n",
      "max_pooling2d_3 (MaxPooling2 (None, 8, 8, 256)         0         \n",
      "_________________________________________________________________\n",
      "batch_normalization_3 (Batch (None, 8, 8, 256)         1024      \n",
      "_________________________________________________________________\n",
      "dropout_3 (Dropout)          (None, 8, 8, 256)         0         \n",
      "_________________________________________________________________\n",
      "conv2d_4 (Conv2D)            (None, 8, 8, 512)         1180160   \n",
      "_________________________________________________________________\n",
      "max_pooling2d_4 (MaxPooling2 (None, 4, 4, 512)         0         \n",
      "_________________________________________________________________\n",
      "batch_normalization_4 (Batch (None, 4, 4, 512)         2048      \n",
      "_________________________________________________________________\n",
      "dropout_4 (Dropout)          (None, 4, 4, 512)         0         \n",
      "_________________________________________________________________\n",
      "flatten (Flatten)            (None, 8192)              0         \n",
      "_________________________________________________________________\n",
      "dense (Dense)                (None, 1024)              8389632   \n",
      "_________________________________________________________________\n",
      "dropout_5 (Dropout)          (None, 1024)              0         \n",
      "_________________________________________________________________\n",
      "batch_normalization_5 (Batch (None, 1024)              4096      \n",
      "_________________________________________________________________\n",
      "dense_1 (Dense)              (None, 5)                 5125      \n",
      "=================================================================\n",
      "Total params: 10,101,765\n",
      "Trainable params: 10,097,541\n",
      "Non-trainable params: 4,224\n",
      "_________________________________________________________________\n"
     ]
    }
   ],
   "source": [
    "model = Sequential()\n",
    "model.add(Conv2D(filters=64, kernel_size=(3,3),padding=\"Same\",activation=\"relu\" , input_shape = (IMG_SIZE,IMG_SIZE,3)))\n",
    "model.add(MaxPool2D(pool_size=(2,2),strides=(2,2)))\n",
    "model.add(BatchNormalization())\n",
    "model.add(Dropout(0.2))\n",
    "\n",
    "model.add(Conv2D(filters=128, kernel_size=(3,3),padding=\"Same\",activation=\"relu\"))\n",
    "model.add(MaxPool2D(pool_size=(2,2),strides=(2,2)))\n",
    "model.add(BatchNormalization())\n",
    "model.add(Dropout(0.2))\n",
    "\n",
    "model.add(Conv2D(filters=128, kernel_size=(3,3),padding=\"Same\",activation=\"relu\"))\n",
    "model.add(MaxPool2D(pool_size=(2,2),strides=(2,2)))\n",
    "model.add(BatchNormalization())\n",
    "model.add(Dropout(0.2))\n",
    "\n",
    "model.add(Conv2D(filters=256,kernel_size = (3,3),padding=\"Same\",activation=\"relu\"))\n",
    "model.add(MaxPool2D(pool_size=(2,2),strides=(2,2)))\n",
    "model.add(BatchNormalization())\n",
    "model.add(Dropout(0.2))\n",
    "\n",
    "model.add(Conv2D(filters=512,kernel_size = (3,3),padding=\"Same\",activation=\"relu\"))\n",
    "model.add(MaxPool2D(pool_size=(2,2),strides=(2,2)))\n",
    "model.add(BatchNormalization())\n",
    "model.add(Dropout(0.2))\n",
    "\n",
    "model.add(Flatten())\n",
    "\n",
    "model.add(Dense(1024,activation=\"relu\"))\n",
    "model.add(Dropout(0.5))\n",
    "model.add(BatchNormalization())\n",
    "\n",
    "model.add(Dense(5,activation=\"softmax\"))\n",
    "\n",
    "model.summary()"
   ]
  },
  {
   "cell_type": "code",
   "execution_count": 8,
   "id": "pressing-draft",
   "metadata": {
    "execution": {
     "iopub.execute_input": "2021-05-25T08:14:44.487669Z",
     "iopub.status.busy": "2021-05-25T08:14:44.484904Z",
     "iopub.status.idle": "2021-05-25T08:14:44.490719Z",
     "shell.execute_reply": "2021-05-25T08:14:44.491111Z",
     "shell.execute_reply.started": "2021-05-25T07:03:24.806351Z"
    },
    "papermill": {
     "duration": 0.028621,
     "end_time": "2021-05-25T08:14:44.491250",
     "exception": false,
     "start_time": "2021-05-25T08:14:44.462629",
     "status": "completed"
    },
    "tags": []
   },
   "outputs": [],
   "source": [
    "model.compile(loss='categorical_crossentropy',\n",
    "              optimizer=Adam(lr=0.001),\n",
    "              metrics=['accuracy'])"
   ]
  },
  {
   "cell_type": "code",
   "execution_count": 9,
   "id": "mounted-commission",
   "metadata": {
    "execution": {
     "iopub.execute_input": "2021-05-25T08:14:44.521380Z",
     "iopub.status.busy": "2021-05-25T08:14:44.520893Z",
     "iopub.status.idle": "2021-05-25T08:14:44.524790Z",
     "shell.execute_reply": "2021-05-25T08:14:44.524340Z",
     "shell.execute_reply.started": "2021-05-25T07:03:24.828511Z"
    },
    "papermill": {
     "duration": 0.020238,
     "end_time": "2021-05-25T08:14:44.524896",
     "exception": false,
     "start_time": "2021-05-25T08:14:44.504658",
     "status": "completed"
    },
    "tags": []
   },
   "outputs": [],
   "source": [
    "epoch = 75\n",
    "batch_size = 64"
   ]
  },
  {
   "cell_type": "code",
   "execution_count": 10,
   "id": "outdoor-matthew",
   "metadata": {
    "execution": {
     "iopub.execute_input": "2021-05-25T08:14:44.556849Z",
     "iopub.status.busy": "2021-05-25T08:14:44.555715Z",
     "iopub.status.idle": "2021-05-25T08:14:44.928181Z",
     "shell.execute_reply": "2021-05-25T08:14:44.927725Z",
     "shell.execute_reply.started": "2021-05-25T07:03:24.837925Z"
    },
    "papermill": {
     "duration": 0.390037,
     "end_time": "2021-05-25T08:14:44.928313",
     "exception": false,
     "start_time": "2021-05-25T08:14:44.538276",
     "status": "completed"
    },
    "tags": []
   },
   "outputs": [],
   "source": [
    "datagen = ImageDataGenerator(\n",
    "    featurewise_center=True,\n",
    "    featurewise_std_normalization=True,\n",
    "    rotation_range=60,\n",
    "    zoom_range = 0.1, \n",
    "    width_shift_range=0.1,\n",
    "    shear_range=0.1,\n",
    "    ) \n",
    "datagen.fit(x_train)"
   ]
  },
  {
   "cell_type": "code",
   "execution_count": 11,
   "id": "breathing-cassette",
   "metadata": {
    "execution": {
     "iopub.execute_input": "2021-05-25T08:14:44.960185Z",
     "iopub.status.busy": "2021-05-25T08:14:44.959026Z",
     "iopub.status.idle": "2021-05-25T08:38:22.457911Z",
     "shell.execute_reply": "2021-05-25T08:38:22.458386Z",
     "shell.execute_reply.started": "2021-05-25T07:03:25.289499Z"
    },
    "papermill": {
     "duration": 1417.516623,
     "end_time": "2021-05-25T08:38:22.458565",
     "exception": false,
     "start_time": "2021-05-25T08:14:44.941942",
     "status": "completed"
    },
    "tags": []
   },
   "outputs": [
    {
     "name": "stderr",
     "output_type": "stream",
     "text": [
      "/opt/conda/lib/python3.7/site-packages/tensorflow/python/keras/engine/training.py:1844: UserWarning:\n",
      "\n",
      "`Model.fit_generator` is deprecated and will be removed in a future version. Please use `Model.fit`, which supports generators.\n",
      "\n"
     ]
    },
    {
     "name": "stdout",
     "output_type": "stream",
     "text": [
      "Epoch 1/75\n",
      "48/48 [==============================] - 29s 462ms/step - loss: 1.9671 - accuracy: 0.3963 - val_loss: 8.2258 - val_accuracy: 0.3315\n",
      "Epoch 2/75\n",
      "48/48 [==============================] - 19s 383ms/step - loss: 1.2970 - accuracy: 0.4984 - val_loss: 2.6438 - val_accuracy: 0.4819\n",
      "Epoch 3/75\n",
      "48/48 [==============================] - 19s 384ms/step - loss: 1.1495 - accuracy: 0.5726 - val_loss: 1.5741 - val_accuracy: 0.5670\n",
      "Epoch 4/75\n",
      "48/48 [==============================] - 19s 385ms/step - loss: 1.0385 - accuracy: 0.6093 - val_loss: 1.2941 - val_accuracy: 0.5598\n",
      "Epoch 5/75\n",
      "48/48 [==============================] - 18s 381ms/step - loss: 0.9149 - accuracy: 0.6610 - val_loss: 1.1273 - val_accuracy: 0.6413\n",
      "Epoch 6/75\n",
      "48/48 [==============================] - 19s 386ms/step - loss: 0.9272 - accuracy: 0.6475 - val_loss: 1.3636 - val_accuracy: 0.5924\n",
      "Epoch 7/75\n",
      "48/48 [==============================] - 18s 380ms/step - loss: 0.8979 - accuracy: 0.6666 - val_loss: 0.8561 - val_accuracy: 0.6504\n",
      "Epoch 8/75\n",
      "48/48 [==============================] - 19s 385ms/step - loss: 0.7892 - accuracy: 0.7131 - val_loss: 1.0586 - val_accuracy: 0.6522\n",
      "Epoch 9/75\n",
      "48/48 [==============================] - 19s 383ms/step - loss: 0.7285 - accuracy: 0.7238 - val_loss: 1.6126 - val_accuracy: 0.5091\n",
      "Epoch 10/75\n",
      "48/48 [==============================] - 19s 388ms/step - loss: 0.7351 - accuracy: 0.7244 - val_loss: 1.3234 - val_accuracy: 0.6304\n",
      "Epoch 11/75\n",
      "48/48 [==============================] - 18s 380ms/step - loss: 0.7027 - accuracy: 0.7316 - val_loss: 1.0282 - val_accuracy: 0.6522\n",
      "Epoch 12/75\n",
      "48/48 [==============================] - 19s 383ms/step - loss: 0.7114 - accuracy: 0.7296 - val_loss: 0.8307 - val_accuracy: 0.7174\n",
      "Epoch 13/75\n",
      "48/48 [==============================] - 19s 388ms/step - loss: 0.6817 - accuracy: 0.7427 - val_loss: 1.3854 - val_accuracy: 0.5453\n",
      "Epoch 14/75\n",
      "48/48 [==============================] - 18s 381ms/step - loss: 0.6262 - accuracy: 0.7628 - val_loss: 0.9266 - val_accuracy: 0.6866\n",
      "Epoch 15/75\n",
      "48/48 [==============================] - 19s 389ms/step - loss: 0.6255 - accuracy: 0.7681 - val_loss: 0.9454 - val_accuracy: 0.6848\n",
      "Epoch 16/75\n",
      "48/48 [==============================] - 18s 382ms/step - loss: 0.5957 - accuracy: 0.7694 - val_loss: 1.0972 - val_accuracy: 0.6884\n",
      "Epoch 17/75\n",
      "48/48 [==============================] - 19s 385ms/step - loss: 0.5798 - accuracy: 0.7813 - val_loss: 0.8781 - val_accuracy: 0.7047\n",
      "Epoch 18/75\n",
      "48/48 [==============================] - 19s 383ms/step - loss: 0.5732 - accuracy: 0.7829 - val_loss: 0.7370 - val_accuracy: 0.7409\n",
      "Epoch 19/75\n",
      "48/48 [==============================] - 19s 390ms/step - loss: 0.5721 - accuracy: 0.7784 - val_loss: 1.1817 - val_accuracy: 0.6141\n",
      "Epoch 20/75\n",
      "48/48 [==============================] - 18s 381ms/step - loss: 0.5309 - accuracy: 0.8085 - val_loss: 0.8216 - val_accuracy: 0.7210\n",
      "Epoch 21/75\n",
      "48/48 [==============================] - 18s 381ms/step - loss: 0.5198 - accuracy: 0.8036 - val_loss: 0.8273 - val_accuracy: 0.7083\n",
      "Epoch 22/75\n",
      "48/48 [==============================] - 19s 390ms/step - loss: 0.5159 - accuracy: 0.7979 - val_loss: 0.8019 - val_accuracy: 0.7391\n",
      "Epoch 23/75\n",
      "48/48 [==============================] - 19s 384ms/step - loss: 0.5033 - accuracy: 0.8103 - val_loss: 0.7341 - val_accuracy: 0.7554\n",
      "Epoch 24/75\n",
      "48/48 [==============================] - 19s 387ms/step - loss: 0.4493 - accuracy: 0.8337 - val_loss: 0.7512 - val_accuracy: 0.7228\n",
      "Epoch 25/75\n",
      "48/48 [==============================] - 19s 386ms/step - loss: 0.4854 - accuracy: 0.8182 - val_loss: 0.6677 - val_accuracy: 0.7482\n",
      "Epoch 26/75\n",
      "48/48 [==============================] - 19s 391ms/step - loss: 0.4791 - accuracy: 0.8181 - val_loss: 0.7900 - val_accuracy: 0.7554\n",
      "Epoch 27/75\n",
      "48/48 [==============================] - 19s 381ms/step - loss: 0.4401 - accuracy: 0.8312 - val_loss: 0.9351 - val_accuracy: 0.7011\n",
      "Epoch 28/75\n",
      "48/48 [==============================] - 19s 385ms/step - loss: 0.4651 - accuracy: 0.8158 - val_loss: 0.7409 - val_accuracy: 0.7518\n",
      "Epoch 29/75\n",
      "48/48 [==============================] - 19s 390ms/step - loss: 0.4118 - accuracy: 0.8563 - val_loss: 0.8660 - val_accuracy: 0.7228\n",
      "Epoch 30/75\n",
      "48/48 [==============================] - 19s 386ms/step - loss: 0.3895 - accuracy: 0.8515 - val_loss: 0.7539 - val_accuracy: 0.7246\n",
      "Epoch 31/75\n",
      "48/48 [==============================] - 19s 385ms/step - loss: 0.3892 - accuracy: 0.8558 - val_loss: 0.7256 - val_accuracy: 0.7337\n",
      "Epoch 32/75\n",
      "48/48 [==============================] - 19s 385ms/step - loss: 0.4139 - accuracy: 0.8439 - val_loss: 0.7757 - val_accuracy: 0.7536\n",
      "Epoch 33/75\n",
      "48/48 [==============================] - 19s 393ms/step - loss: 0.3792 - accuracy: 0.8567 - val_loss: 0.6949 - val_accuracy: 0.7554\n",
      "Epoch 34/75\n",
      "48/48 [==============================] - 18s 381ms/step - loss: 0.3800 - accuracy: 0.8602 - val_loss: 1.0182 - val_accuracy: 0.7047\n",
      "Epoch 35/75\n",
      "48/48 [==============================] - 19s 387ms/step - loss: 0.3760 - accuracy: 0.8491 - val_loss: 0.7353 - val_accuracy: 0.7482\n",
      "Epoch 36/75\n",
      "48/48 [==============================] - 19s 390ms/step - loss: 0.3179 - accuracy: 0.8799 - val_loss: 0.7970 - val_accuracy: 0.7446\n",
      "Epoch 37/75\n",
      "48/48 [==============================] - 19s 382ms/step - loss: 0.3438 - accuracy: 0.8730 - val_loss: 0.7878 - val_accuracy: 0.7373\n",
      "Epoch 38/75\n",
      "48/48 [==============================] - 19s 390ms/step - loss: 0.3395 - accuracy: 0.8799 - val_loss: 0.9003 - val_accuracy: 0.6993\n",
      "Epoch 39/75\n",
      "48/48 [==============================] - 19s 384ms/step - loss: 0.3228 - accuracy: 0.8830 - val_loss: 1.0019 - val_accuracy: 0.7264\n",
      "Epoch 40/75\n",
      "48/48 [==============================] - 19s 392ms/step - loss: 0.3147 - accuracy: 0.8765 - val_loss: 0.7664 - val_accuracy: 0.7391\n",
      "Epoch 41/75\n",
      "48/48 [==============================] - 18s 381ms/step - loss: 0.2849 - accuracy: 0.8932 - val_loss: 0.9597 - val_accuracy: 0.7681\n",
      "Epoch 42/75\n",
      "48/48 [==============================] - 19s 390ms/step - loss: 0.2845 - accuracy: 0.8890 - val_loss: 0.8809 - val_accuracy: 0.7609\n",
      "Epoch 43/75\n",
      "48/48 [==============================] - 19s 390ms/step - loss: 0.3021 - accuracy: 0.8875 - val_loss: 0.8512 - val_accuracy: 0.7464\n",
      "Epoch 44/75\n",
      "48/48 [==============================] - 18s 380ms/step - loss: 0.3035 - accuracy: 0.8820 - val_loss: 0.7737 - val_accuracy: 0.7681\n",
      "Epoch 45/75\n",
      "48/48 [==============================] - 19s 395ms/step - loss: 0.2487 - accuracy: 0.9050 - val_loss: 0.6868 - val_accuracy: 0.7808\n",
      "Epoch 46/75\n",
      "48/48 [==============================] - 19s 383ms/step - loss: 0.2832 - accuracy: 0.9003 - val_loss: 1.3945 - val_accuracy: 0.6467\n",
      "Epoch 47/75\n",
      "48/48 [==============================] - 19s 393ms/step - loss: 0.2319 - accuracy: 0.9139 - val_loss: 0.7454 - val_accuracy: 0.7736\n",
      "Epoch 48/75\n",
      "48/48 [==============================] - 19s 395ms/step - loss: 0.2675 - accuracy: 0.8957 - val_loss: 0.8460 - val_accuracy: 0.7591\n",
      "Epoch 49/75\n",
      "48/48 [==============================] - 19s 384ms/step - loss: 0.2199 - accuracy: 0.9240 - val_loss: 0.8746 - val_accuracy: 0.7138\n",
      "Epoch 50/75\n",
      "48/48 [==============================] - 19s 398ms/step - loss: 0.2156 - accuracy: 0.9248 - val_loss: 0.7491 - val_accuracy: 0.7663\n",
      "Epoch 51/75\n",
      "48/48 [==============================] - 18s 381ms/step - loss: 0.2378 - accuracy: 0.9116 - val_loss: 0.7619 - val_accuracy: 0.7826\n",
      "Epoch 52/75\n",
      "48/48 [==============================] - 19s 396ms/step - loss: 0.2183 - accuracy: 0.9230 - val_loss: 0.7582 - val_accuracy: 0.7790\n",
      "Epoch 53/75\n",
      "48/48 [==============================] - 19s 395ms/step - loss: 0.1967 - accuracy: 0.9377 - val_loss: 0.8114 - val_accuracy: 0.7808\n",
      "Epoch 54/75\n",
      "48/48 [==============================] - 18s 379ms/step - loss: 0.2121 - accuracy: 0.9225 - val_loss: 0.7829 - val_accuracy: 0.7826\n",
      "Epoch 55/75\n",
      "48/48 [==============================] - 19s 397ms/step - loss: 0.2391 - accuracy: 0.9215 - val_loss: 0.7463 - val_accuracy: 0.7917\n",
      "Epoch 56/75\n",
      "48/48 [==============================] - 19s 383ms/step - loss: 0.2018 - accuracy: 0.9232 - val_loss: 0.7723 - val_accuracy: 0.7826\n",
      "Epoch 57/75\n",
      "48/48 [==============================] - 19s 396ms/step - loss: 0.2132 - accuracy: 0.9155 - val_loss: 0.8398 - val_accuracy: 0.7935\n",
      "Epoch 58/75\n",
      "48/48 [==============================] - 19s 384ms/step - loss: 0.1973 - accuracy: 0.9350 - val_loss: 0.7600 - val_accuracy: 0.7917\n",
      "Epoch 59/75\n",
      "48/48 [==============================] - 19s 380ms/step - loss: 0.1718 - accuracy: 0.9349 - val_loss: 0.9271 - val_accuracy: 0.7736\n",
      "Epoch 60/75\n",
      "48/48 [==============================] - 19s 390ms/step - loss: 0.1774 - accuracy: 0.9354 - val_loss: 0.8212 - val_accuracy: 0.7917\n",
      "Epoch 61/75\n",
      "48/48 [==============================] - 19s 388ms/step - loss: 0.1736 - accuracy: 0.9340 - val_loss: 1.4501 - val_accuracy: 0.6739\n",
      "Epoch 62/75\n",
      "48/48 [==============================] - 19s 390ms/step - loss: 0.1654 - accuracy: 0.9444 - val_loss: 0.8551 - val_accuracy: 0.7899\n",
      "Epoch 63/75\n",
      "48/48 [==============================] - 19s 383ms/step - loss: 0.1501 - accuracy: 0.9449 - val_loss: 0.9794 - val_accuracy: 0.7699\n",
      "Epoch 64/75\n",
      "48/48 [==============================] - 19s 393ms/step - loss: 0.1697 - accuracy: 0.9370 - val_loss: 1.0469 - val_accuracy: 0.7627\n",
      "Epoch 65/75\n",
      "48/48 [==============================] - 19s 389ms/step - loss: 0.1476 - accuracy: 0.9432 - val_loss: 0.8722 - val_accuracy: 0.7808\n",
      "Epoch 66/75\n",
      "48/48 [==============================] - 19s 389ms/step - loss: 0.1471 - accuracy: 0.9458 - val_loss: 0.8559 - val_accuracy: 0.7790\n",
      "Epoch 67/75\n",
      "48/48 [==============================] - 19s 393ms/step - loss: 0.1619 - accuracy: 0.9441 - val_loss: 1.0643 - val_accuracy: 0.7591\n",
      "Epoch 68/75\n",
      "48/48 [==============================] - 19s 385ms/step - loss: 0.1596 - accuracy: 0.9384 - val_loss: 0.7862 - val_accuracy: 0.7880\n",
      "Epoch 69/75\n",
      "48/48 [==============================] - 19s 389ms/step - loss: 0.1561 - accuracy: 0.9485 - val_loss: 0.8513 - val_accuracy: 0.7699\n",
      "Epoch 70/75\n",
      "48/48 [==============================] - 19s 394ms/step - loss: 0.1405 - accuracy: 0.9533 - val_loss: 0.7204 - val_accuracy: 0.8007\n",
      "Epoch 71/75\n",
      "48/48 [==============================] - 18s 380ms/step - loss: 0.1553 - accuracy: 0.9450 - val_loss: 0.9294 - val_accuracy: 0.7862\n",
      "Epoch 72/75\n",
      "48/48 [==============================] - 19s 399ms/step - loss: 0.1355 - accuracy: 0.9537 - val_loss: 0.9566 - val_accuracy: 0.7754\n",
      "Epoch 73/75\n",
      "48/48 [==============================] - 19s 384ms/step - loss: 0.1262 - accuracy: 0.9541 - val_loss: 1.1083 - val_accuracy: 0.7645\n",
      "Epoch 74/75\n",
      "48/48 [==============================] - 19s 398ms/step - loss: 0.1399 - accuracy: 0.9454 - val_loss: 0.9390 - val_accuracy: 0.7790\n",
      "Epoch 75/75\n",
      "48/48 [==============================] - 19s 387ms/step - loss: 0.1420 - accuracy: 0.9537 - val_loss: 1.1261 - val_accuracy: 0.7554\n"
     ]
    }
   ],
   "source": [
    "history = model.fit_generator(datagen.flow(x_train,y_train,batch_size=batch_size),\n",
    "                              epochs= epoch,validation_data=(x_val,y_val),\n",
    "                              steps_per_epoch=x_train.shape[0] // batch_size\n",
    "                              )"
   ]
  },
  {
   "cell_type": "code",
   "execution_count": 12,
   "id": "subtle-inside",
   "metadata": {
    "execution": {
     "iopub.execute_input": "2021-05-25T08:38:24.416284Z",
     "iopub.status.busy": "2021-05-25T08:38:24.415379Z",
     "iopub.status.idle": "2021-05-25T08:38:27.834916Z",
     "shell.execute_reply": "2021-05-25T08:38:27.835933Z",
     "shell.execute_reply.started": "2021-05-25T07:28:39.361266Z"
    },
    "papermill": {
     "duration": 4.409221,
     "end_time": "2021-05-25T08:38:27.836102",
     "exception": false,
     "start_time": "2021-05-25T08:38:23.426881",
     "status": "completed"
    },
    "tags": []
   },
   "outputs": [
    {
     "name": "stdout",
     "output_type": "stream",
     "text": [
      "21/21 [==============================] - 3s 160ms/step - loss: 1.0804 - accuracy: 0.7781\n",
      "Test Accuracy: 77.81%\n"
     ]
    }
   ],
   "source": [
    "print(\"Test Accuracy: {0:.2f}%\".format(model.evaluate(x_test,y_test)[1]*100))"
   ]
  },
  {
   "cell_type": "code",
   "execution_count": 13,
   "id": "attended-austria",
   "metadata": {
    "execution": {
     "iopub.execute_input": "2021-05-25T08:38:29.765467Z",
     "iopub.status.busy": "2021-05-25T08:38:29.751968Z",
     "iopub.status.idle": "2021-05-25T08:38:30.154495Z",
     "shell.execute_reply": "2021-05-25T08:38:30.154898Z",
     "shell.execute_reply.started": "2021-05-25T07:28:42.845904Z"
    },
    "papermill": {
     "duration": 1.365319,
     "end_time": "2021-05-25T08:38:30.155045",
     "exception": false,
     "start_time": "2021-05-25T08:38:28.789726",
     "status": "completed"
    },
    "tags": []
   },
   "outputs": [
    {
     "name": "stdout",
     "output_type": "stream",
     "text": [
      "dict_keys(['loss', 'accuracy', 'val_loss', 'val_accuracy'])\n"
     ]
    },
    {
     "data": {
      "image/png": "[encoded data removed]",
      "text/plain": [
       "<Figure size 432x288 with 1 Axes>"
      ]
     },
     "metadata": {
      "needs_background": "light"
     },
     "output_type": "display_data"
    },
    {
     "data": {
      "image/png": "[encoded data removed]",
      "text/plain": [
       "<Figure size 432x288 with 1 Axes>"
      ]
     },
     "metadata": {
      "needs_background": "light"
     },
     "output_type": "display_data"
    },
    {
     "data": {
      "image/png": "[encoded data removed]",
      "text/plain": [
       "<Figure size 432x288 with 1 Axes>"
      ]
     },
     "metadata": {
      "needs_background": "light"
     },
     "output_type": "display_data"
    }
   ],
   "source": [
    "print(history.history.keys())\n",
    "plt.plot(history.history['accuracy'],color='c')\n",
    "plt.plot(history.history['val_accuracy'],color='m')\n",
    "plt.title('model accuracy')\n",
    "plt.ylabel('accuracy')\n",
    "plt.xlabel('epoch')\n",
    "plt.legend(['train', 'validation'], loc='upper left')\n",
    "plt.show()\n",
    "\n",
    "plt.plot(history.history['loss'])\n",
    "plt.title('model training loss')\n",
    "plt.ylabel('loss')\n",
    "plt.xlabel('epoch')\n",
    "plt.show()\n",
    "\n",
    "plt.plot(history.history['val_loss'])\n",
    "plt.title('model validation loss')\n",
    "plt.ylabel('loss')\n",
    "plt.xlabel('epoch')\n",
    "plt.show()"
   ]
  },
  {
   "cell_type": "code",
   "execution_count": 14,
   "id": "angry-carrier",
   "metadata": {
    "execution": {
     "iopub.execute_input": "2021-05-25T08:38:32.309734Z",
     "iopub.status.busy": "2021-05-25T08:38:32.308743Z",
     "iopub.status.idle": "2021-05-25T08:38:35.713719Z",
     "shell.execute_reply": "2021-05-25T08:38:35.713264Z",
     "shell.execute_reply.started": "2021-05-25T07:47:01.489830Z"
    },
    "papermill": {
     "duration": 4.601233,
     "end_time": "2021-05-25T08:38:35.713840",
     "exception": false,
     "start_time": "2021-05-25T08:38:31.112607",
     "status": "completed"
    },
    "tags": []
   },
   "outputs": [
    {
     "name": "stdout",
     "output_type": "stream",
     "text": [
      "AxesSubplot(0.125,0.125;0.62x0.755)\n"
     ]
    },
    {
     "data": {
      "image/png": "[encoded data removed]",
      "text/plain": [
       "<Figure size 432x288 with 2 Axes>"
      ]
     },
     "metadata": {
      "needs_background": "light"
     },
     "output_type": "display_data"
    }
   ],
   "source": [
    "from sklearn.metrics import confusion_matrix\n",
    "Y_pred = model.predict(x_test)\n",
    "Y_pred_classes = np.argmax(Y_pred,axis = 1)\n",
    "Y_true = np.argmax(y_test,axis = 1)\n",
    "confusion_mtx = confusion_matrix(Y_true,Y_pred_classes)\n",
    "\n",
    "print(sns.heatmap(confusion_matrix(Y_true,Y_pred_classes),annot=True,fmt= \"d\"))"
   ]
  },
  {
   "cell_type": "code",
   "execution_count": null,
   "id": "aggressive-scanning",
   "metadata": {
    "papermill": {
     "duration": 0.957418,
     "end_time": "2021-05-25T08:38:37.640375",
     "exception": false,
     "start_time": "2021-05-25T08:38:36.682957",
     "status": "completed"
    },
    "tags": []
   },
   "outputs": [],
   "source": []
  }
 ],
 "metadata": {
  "kernelspec": {
   "display_name": "Python 3",
   "language": "python",
   "name": "python3"
  },
  "language_info": {
   "codemirror_mode": {
    "name": "ipython",
    "version": 3
   },
   "file_extension": ".py",
   "mimetype": "text/x-python",
   "name": "python",
   "nbconvert_exporter": "python",
   "pygments_lexer": "ipython3",
   "version": "3.8.8"
  },
  "papermill": {
   "default_parameters": {},
   "duration": 1482.385348,
   "end_time": "2021-05-25T08:38:41.381993",
   "environment_variables": {},
   "exception": null,
   "input_path": "__notebook__.ipynb",
   "output_path": "__notebook__.ipynb",
   "parameters": {},
   "start_time": "2021-05-25T08:13:58.996645",
   "version": "2.3.3"
  }
 },
 "nbformat": 4,
 "nbformat_minor": 5
}
